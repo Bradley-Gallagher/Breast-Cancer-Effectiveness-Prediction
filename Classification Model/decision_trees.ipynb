{
 "cells": [
  {
   "cell_type": "markdown",
   "metadata": {},
   "source": [
    "##### **Imports**"
   ]
  },
  {
   "cell_type": "code",
   "execution_count": 18,
   "metadata": {},
   "outputs": [],
   "source": [
    "import matplotlib.pyplot as plt\n",
    "import numpy as np\n",
    "import pandas as pd\n",
    "\n",
    "from sklearn.model_selection import train_test_split\n",
    "from sklearn.linear_model import LogisticRegression\n",
    "from sklearn.metrics import recall_score\n",
    "from sklearn.metrics import f1_score\n",
    "from sklearn.metrics import balanced_accuracy_score\n",
    "from sklearn.model_selection import GridSearchCV\n",
    "from sklearn.model_selection import KFold\n",
    "from sklearn.impute import SimpleImputer\n",
    "from sklearn.preprocessing import StandardScaler\n",
    "from sklearn.feature_selection import SequentialFeatureSelector\n",
    "from sklearn.ensemble import RandomForestClassifier\n",
    "from sklearn.tree import DecisionTreeClassifier"
   ]
  },
  {
   "cell_type": "code",
   "execution_count": 19,
   "metadata": {},
   "outputs": [],
   "source": [
    "all_df=pd.read_excel('./TrainDataset2023.xls', index_col=False) #Read from File\n",
    "all_df.drop('ID', axis=1, inplace=True) # Drop ID - not needed for training"
   ]
  },
  {
   "cell_type": "code",
   "execution_count": 20,
   "metadata": {},
   "outputs": [],
   "source": [
    "#Impute Missing Values\n",
    "imputer = SimpleImputer(missing_values = 999, strategy=\"median\") # Test Other Methods\n",
    "SimpleImputer(missing_values = 999)\n",
    "s = 0\n",
    "for i in all_df:\n",
    "    imputer.fit(all_df)\n",
    "    array = np.array(all_df[i])\n",
    "    all_df[i] = imputer.fit_transform(array.reshape(-1, 1)) "
   ]
  },
  {
   "cell_type": "code",
   "execution_count": 21,
   "metadata": {},
   "outputs": [
    {
     "name": "stdout",
     "output_type": "stream",
     "text": [
      "Data Normilisation Complete\n"
     ]
    }
   ],
   "source": [
    "#Min Max \n",
    "colno = 0\n",
    "for col in all_df:\n",
    "    if col == 'RelapseFreeSurvival (outcome)':\n",
    "        continue\n",
    "    if colno >= 12: # ONLY NORMALISE MRI SCAN DATA\n",
    "        colmean = np.median(all_df[col])\n",
    "        colstd = np.std(all_df[col])\n",
    "        upper = colmean + (3*colstd)\n",
    "        lower = colmean - (3*colstd) # USING MIN ALSO SEEMS TO SKEW DATA\n",
    "        #Comment out to cancel\n",
    "        #all_df[col] = minmax_scale(all_df[col], feature_range=(lower,upper)) #Minimal Change - Downscales severity of Mean Squared Error\n",
    "    colno+=1\n",
    "    \n",
    "print('Data Normilisation Complete')"
   ]
  },
  {
   "cell_type": "markdown",
   "metadata": {},
   "source": [
    "##### **Model**"
   ]
  },
  {
   "cell_type": "code",
   "execution_count": 22,
   "metadata": {},
   "outputs": [
    {
     "name": "stdout",
     "output_type": "stream",
     "text": [
      "Decision Tree \n",
      "\n",
      "Best Depth = 1\n",
      "Results for Fold:\n",
      "Recall: 0.143\n",
      "F1 score: 0.143\n",
      "Balanced Accuracy: 0.522\n",
      "\n",
      "Results for Fold:\n",
      "Recall: 0.188\n",
      "F1 score: 0.222\n",
      "Balanced Accuracy: 0.517\n",
      "\n",
      "Results for Fold:\n",
      "Recall: 0.000\n",
      "F1 score: 0.000\n",
      "Balanced Accuracy: 0.500\n",
      "\n",
      "Results for Fold:\n",
      "Recall: 0.105\n",
      "F1 score: 0.160\n",
      "Balanced Accuracy: 0.512\n",
      "\n",
      "Results for Fold:\n",
      "Recall: 0.318\n",
      "F1 score: 0.368\n",
      "Balanced Accuracy: 0.561\n",
      "\n",
      "Mean Recall: 0.15076042378673957\n",
      "Mean F1: 0.1787000835421888\n",
      "Mean Balanced Accuracy: 0.5224310482375571\n"
     ]
    }
   ],
   "source": [
    "print('Decision Tree \\n')\n",
    "y = all_df['pCR (outcome)']\n",
    "x = all_df.drop('pCR (outcome)', axis=1)\n",
    "train_X, validate_X, train_y, validate_y = train_test_split(x, y, test_size=0.15, shuffle = False)\n",
    "depth = 1\n",
    "top_score = 0\n",
    "best_depth = 1\n",
    "train_X, validate_X, train_y, validate_y = train_test_split(x, y, test_size=0.15, shuffle = False)\n",
    "while depth <= 100:\n",
    "    tree_clf = DecisionTreeClassifier(max_depth=depth)\n",
    "    tree_clf.fit(train_X, train_y) #Train Model\n",
    "    new_score = tree_clf.score(validate_X, validate_y)\n",
    "    if new_score > top_score:\n",
    "        best_depth = depth\n",
    "        top_score = new_score\n",
    "        #print(\"Depth = \"+str(depth)+\", Score = \"+str(new_score))\n",
    "    depth += 1\n",
    "    \n",
    "mean_recall = []\n",
    "mean_f1 = []\n",
    "mean_ba = []\n",
    "\n",
    "print(\"Best Depth = \"+str(best_depth))\n",
    "scaler = StandardScaler()\n",
    "Xs = scaler.fit_transform(x)\n",
    "#K-fold\n",
    "mse_total = 0\n",
    "score_total = 0\n",
    "kf = KFold(n_splits=5)\n",
    "tree_clf = DecisionTreeClassifier(max_depth=best_depth)\n",
    "for train, test in kf.split(train_X, train_y):\n",
    "    tree_clf.fit(Xs[train],y[train])\n",
    "\n",
    "    y_pred = tree_clf.predict(Xs[test])\n",
    "\n",
    "    print(\"Results for Fold:\")\n",
    "\n",
    "    # Recall\n",
    "    recall = recall_score(y[test], y_pred)\n",
    "    mean_recall.append(recall)\n",
    "    print('Recall: %.3f' % recall)\n",
    "\n",
    "    # F1\n",
    "    f1 = f1_score(y[test], y_pred)\n",
    "    mean_f1.append(f1)\n",
    "    print('F1 score: %.3f' % f1)\n",
    "\n",
    "    # Balanced Accuracy\n",
    "    balanced_accuracy = balanced_accuracy_score(y[test], y_pred)\n",
    "    mean_ba.append(balanced_accuracy)\n",
    "    print('Balanced Accuracy: %.3f' % balanced_accuracy)\n",
    "\n",
    "    print()\n",
    "\n",
    "print(\"Mean Recall: \"+str(np.mean(mean_recall)))\n",
    "print(\"Mean F1: \"+str(np.mean(mean_f1)))\n",
    "print(\"Mean Balanced Accuracy: \"+str(np.mean(mean_ba)))\n"
   ]
  }
 ],
 "metadata": {
  "kernelspec": {
   "display_name": ".venv",
   "language": "python",
   "name": "python3"
  },
  "language_info": {
   "codemirror_mode": {
    "name": "ipython",
    "version": 3
   },
   "file_extension": ".py",
   "mimetype": "text/x-python",
   "name": "python",
   "nbconvert_exporter": "python",
   "pygments_lexer": "ipython3",
   "version": "3.10.5"
  }
 },
 "nbformat": 4,
 "nbformat_minor": 2
}
